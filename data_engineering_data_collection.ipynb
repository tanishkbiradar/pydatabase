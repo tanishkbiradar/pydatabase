{
 "cells": [
  {
   "cell_type": "markdown",
   "id": "10d7c1c9",
   "metadata": {},
   "source": [
    "# Data engineering pipeline"
   ]
  },
  {
   "cell_type": "markdown",
   "id": "49598c9b",
   "metadata": {},
   "source": [
    "# Data Collection\n"
   ]
  },
  {
   "cell_type": "markdown",
   "id": "90008459",
   "metadata": {},
   "source": [
    "# Population and sample"
   ]
  },
  {
   "cell_type": "markdown",
   "id": "5084fca9",
   "metadata": {},
   "source": [
    "https://byjus.com/maths/population-and-sample/"
   ]
  },
  {
   "cell_type": "markdown",
   "id": "cf637a15",
   "metadata": {},
   "source": [
    "# What is Population?"
   ]
  },
  {
   "cell_type": "markdown",
   "id": "bd9de62d",
   "metadata": {},
   "source": [
    "In statistics, population is the entire set of items from which you draw data for a statistical study. It can be a group of individuals, a set of items, etc. It makes up the data pool for a study."
   ]
  },
  {
   "cell_type": "markdown",
   "id": "dd1e1d6e",
   "metadata": {},
   "source": [
    "# What is a Sample?"
   ]
  },
  {
   "cell_type": "markdown",
   "id": "d3c55417",
   "metadata": {},
   "source": [
    "A sample is defined as a smaller and more manageable representation of a larger group. A subset of a larger population that contains characteristics of that population. A sample is used in statistical testing when the population size is too large for all members or observations to be included in the test."
   ]
  },
  {
   "cell_type": "markdown",
   "id": "d56986cc",
   "metadata": {},
   "source": [
    "# Basically, there are two types of sampling. They are:"
   ]
  },
  {
   "cell_type": "markdown",
   "id": "d48d761b",
   "metadata": {},
   "source": [
    "1.Probability sampling 2.Non-probability sampling"
   ]
  },
  {
   "cell_type": "markdown",
   "id": "a800af30",
   "metadata": {},
   "source": [
    "# Probability Sampling"
   ]
  },
  {
   "cell_type": "markdown",
   "id": "241ee878",
   "metadata": {},
   "source": [
    "In probability sampling, the population units cannot be selected at the discretion of the researcher. This can be dealt with following certain procedures which will ensure that every unit of the population consists of one fixed probability being included in the sample. Such a method is also called random sampling. Some of the techniques used for probability sampling are:"
   ]
  },
  {
   "cell_type": "markdown",
   "id": "df9fe4ab",
   "metadata": {},
   "source": [
    "1.Simple random sampling 2.Cluster sampling 3.Stratified Sampling 4.Disproportionate sampling 5.Proportionate sampling 6.Optimum allocation stratified sampling 7.Multi-stage sampling"
   ]
  },
  {
   "cell_type": "markdown",
   "id": "f61ac5e9",
   "metadata": {},
   "source": [
    "# Non Probability Sampling"
   ]
  },
  {
   "cell_type": "markdown",
   "id": "0df76120",
   "metadata": {},
   "source": [
    "In non-probability sampling, the population units can be selected at the discretion of the researcher. Those samples will use the human judgements for selecting units and has no theoretical basis for estimating the characteristics of the population. Some of the techniques used for non-probability sampling are"
   ]
  },
  {
   "cell_type": "markdown",
   "id": "dd77c5f5",
   "metadata": {},
   "source": [
    "Quota sampling Judgement sampling Purposive sampling"
   ]
  },
  {
   "cell_type": "markdown",
   "id": "1cffb10b",
   "metadata": {},
   "source": [
    "# Population and Sample Examples"
   ]
  },
  {
   "cell_type": "markdown",
   "id": "967c9ae6",
   "metadata": {},
   "source": [
    "All the people who have the ID proofs is the population and a group of people who only have voter id with them is the sample. All the students in the class are population whereas the top 10 students in the class are the sample. All the members of the parliament is population and the female candidates present there is the sample."
   ]
  },
  {
   "cell_type": "markdown",
   "id": "bbd8b7f8",
   "metadata": {},
   "source": [
    "# Types of data"
   ]
  },
  {
   "cell_type": "markdown",
   "id": "bfa563f8",
   "metadata": {},
   "source": [
    "# 1. Data type"
   ]
  },
  {
   "cell_type": "markdown",
   "id": "40d81566",
   "metadata": {},
   "source": [
    "# type 1 (cross sectional, time series)"
   ]
  },
  {
   "cell_type": "markdown",
   "id": "c61150a9",
   "metadata": {},
   "source": [
    "Cross-sectional data refer to observations of many different individuals (subjects, objects) at a given time, each observation belonging to a different individual. Example: gross annual income for each of 1000 randomly chosen households in India for the year 2000.\n",
    "\n",
    "A time series data is the set of measurements taking place in a constant interval of time, here time acts as independent variable and the objective ( to study changes in a characteristics) is dependent variables. Example: Sales on daily basis"
   ]
  },
  {
   "cell_type": "markdown",
   "id": "604e6945",
   "metadata": {},
   "source": [
    "# Time series data: A set of observations contains values, taken by variable at different times."
   ]
  },
  {
   "cell_type": "markdown",
   "id": "d15422be",
   "metadata": {},
   "source": [
    "# Cross-sectional data: Data values of one or more variables, gathered at the same time-point."
   ]
  },
  {
   "cell_type": "markdown",
   "id": "06b60a6b",
   "metadata": {},
   "source": [
    "# type 2 (univariate, multivariate)"
   ]
  },
  {
   "cell_type": "markdown",
   "id": "b79d67b7",
   "metadata": {},
   "source": [
    "univariate: Univariate is used to describe a type of data which consists of observations on only a single characteristic or attribute. Example: salaries of an employee in Company.\n",
    "\n",
    "multivariate: multivariate is used to describe a type of data which consists of observations on two or more characteristic or attribute.Examples: name,Department,YoE,Salary of an employee in Company."
   ]
  },
  {
   "cell_type": "markdown",
   "id": "18a89b1b",
   "metadata": {},
   "source": [
    "# 2. Variable types (categorical, ordinal, ratio, interval)"
   ]
  },
  {
   "cell_type": "markdown",
   "id": "739a5de9",
   "metadata": {},
   "source": [
    "Categorical: Categorical variables are usually represented as ‘strings’ or ‘categories’ and are finite in number. Examples:1.The city where a person lives: Delhi, Mumbai, Ahmedabad, Bangalore, etc.2.The department a person works in: Finance, Human resources, IT, Production.\n",
    "\n",
    "Nominal Data: Nominal Data can not be place in any order or quantitative value. Example: Gender (Male, Female, Others)\n",
    "\n",
    "Ordinal data: Ordinal data have natural ordering where a number is present in some kind of order by their position on the scale. Example: Pclass (First Class, Second Class, Third Class)\n",
    "\n",
    "Quantitative Data- Quantitative data can be expressed in numerical values, making it countable and including statistical data analysis. These kinds of data are also known as Numerical data. Example: Age of a person.\n",
    "\n",
    "Discrete Data: The discrete data contain the values that fall under integers or whole numbers. These data can’t be broken into decimal or fraction values. Example: The total number of students in a class.\n",
    "\n",
    "Continuous data: Continuous data are in the form of fractional numbers. Continuous data represents information that can be divided into smaller levels. The continuous variable can take any value within a range. Example: the height of a person, the length of an object.\n",
    "\n",
    "Ratio data: Ratio data is a form of quantitative (numeric) data. It measures variables on a continuous scale, with an equal distance between adjacent values. ratio data is all about measuring continuous variables on equidistant scales. ratio data can never have a negative value. Examples: Height (5ft. 8in., 5ft. 9in., 5ft. 10in., 5ft. 11in., 6ft. 0in. etc.), Price of item (0, 5, 10, 15, 20, 30, etc.)\n",
    "\n",
    "interval: Interval data is a type of quantitative (numerical) data. It groups variables into categories and always uses some kind of ordered scale. Furthermore, interval values are always ordered and separated using an equal measure of distance."
   ]
  },
  {
   "cell_type": "markdown",
   "id": "371f9f55",
   "metadata": {},
   "source": [
    "# Exercise: consider the Titanic dataset identify all tpes of datas."
   ]
  },
  {
   "cell_type": "markdown",
   "id": "83202929",
   "metadata": {},
   "source": [
    "# Key terminologies in Statistics"
   ]
  },
  {
   "cell_type": "markdown",
   "id": "280caba3",
   "metadata": {},
   "source": [
    "# Probability (Basic concepts)"
   ]
  },
  {
   "cell_type": "markdown",
   "id": "f2167882",
   "metadata": {},
   "source": [
    "# Probability: Probability tells how likely is the event to occur. The value of Probability always lies between 0 to 1. It is the core concept as well as a primary prerequisite to understanding the ML models and their applications."
   ]
  },
  {
   "cell_type": "markdown",
   "id": "f7b9414a",
   "metadata": {},
   "source": [
    "# Probability can be calculated by the number of times the event occurs divided by the total number of possible outcomes. Let's suppose we tossed a coin, then the probability of getting head as a possible outcome can be calculated as below formula:"
   ]
  },
  {
   "cell_type": "markdown",
   "id": "3ddc8a0a",
   "metadata": {},
   "source": [
    "# P (H) = Number of ways to head occur/ total number of possible outcomes"
   ]
  },
  {
   "cell_type": "markdown",
   "id": "36f0000c",
   "metadata": {},
   "source": [
    "# P (H) = ½\n"
   ]
  },
  {
   "cell_type": "markdown",
   "id": "420e0f1e",
   "metadata": {},
   "source": [
    "# P (H) = 0.5\n"
   ]
  },
  {
   "cell_type": "markdown",
   "id": "0a18827a",
   "metadata": {},
   "source": [
    "# Where;"
   ]
  },
  {
   "cell_type": "markdown",
   "id": "931ac479",
   "metadata": {},
   "source": [
    "# P (H) = Probability of occurring Head as outcome while tossing a coin."
   ]
  },
  {
   "cell_type": "code",
   "execution_count": null,
   "id": "b4ba23ba",
   "metadata": {},
   "outputs": [],
   "source": []
  },
  {
   "cell_type": "markdown",
   "id": "94602cb1",
   "metadata": {},
   "source": [
    "# Conditional probability"
   ]
  },
  {
   "cell_type": "markdown",
   "id": "e2f6a199",
   "metadata": {},
   "source": [
    "# Conditional Probability:It is given by the Probability of event A given that event B occurred."
   ]
  },
  {
   "cell_type": "markdown",
   "id": "aa0301bc",
   "metadata": {},
   "source": [
    "# The Probability of an event A conditioned on an event B is denoted and defined as;"
   ]
  },
  {
   "cell_type": "markdown",
   "id": "535ee4bf",
   "metadata": {},
   "source": [
    "# P(A|B) = P(A∩B)/P(B)"
   ]
  },
  {
   "cell_type": "markdown",
   "id": "897ad352",
   "metadata": {},
   "source": [
    "# Similarly, P(B|A) = P(A ∩ B)/ P(A) . We can write the joint Probability of as A and B as P(A ∩ B)= p(A).P(B|A), which means: \"The chance of both things happening is the chance that the first one happens, and then the second one is given when the first thing happened.\""
   ]
  },
  {
   "cell_type": "markdown",
   "id": "9896ae21",
   "metadata": {},
   "source": [
    "# Joint Probability:It tells the Probability of simultaneously occurring two random events."
   ]
  },
  {
   "cell_type": "markdown",
   "id": "c79c04a4",
   "metadata": {},
   "source": [
    "# P(A ∩ B) = P(A). P(B)"
   ]
  },
  {
   "cell_type": "markdown",
   "id": "db075f0a",
   "metadata": {},
   "source": [
    "# Where;"
   ]
  },
  {
   "cell_type": "markdown",
   "id": "ce3c5651",
   "metadata": {},
   "source": [
    "# P(A ∩ B) = Probability of occurring events A and B both."
   ]
  },
  {
   "cell_type": "markdown",
   "id": "561568e0",
   "metadata": {},
   "source": [
    "# P (A) = Probability of event A"
   ]
  },
  {
   "cell_type": "markdown",
   "id": "dd62b15c",
   "metadata": {},
   "source": [
    "# P (B) = Probability of event B"
   ]
  },
  {
   "cell_type": "markdown",
   "id": "26976b02",
   "metadata": {},
   "source": [
    "# Bayes’ Theorem"
   ]
  },
  {
   "cell_type": "markdown",
   "id": "4794ca8e",
   "metadata": {},
   "source": [
    "https://www.javatpoint.com/bayes-theorem-in-machine-learning"
   ]
  },
  {
   "cell_type": "markdown",
   "id": "e60b20bd",
   "metadata": {},
   "source": [
    "# Probability Distributions"
   ]
  },
  {
   "cell_type": "markdown",
   "id": "1974903c",
   "metadata": {},
   "source": [
    "1.Discrete\n",
    "\n",
    "2.Continuous\n",
    "\n",
    "3.Central Limit Theorem\n",
    "\n",
    "https://www.knowledgehut.com/blog/data-science/probability-distribution-types"
   ]
  },
  {
   "cell_type": "code",
   "execution_count": null,
   "id": "d97b5fab",
   "metadata": {},
   "outputs": [],
   "source": []
  }
 ],
 "metadata": {
  "kernelspec": {
   "display_name": "Python 3 (ipykernel)",
   "language": "python",
   "name": "python3"
  },
  "language_info": {
   "codemirror_mode": {
    "name": "ipython",
    "version": 3
   },
   "file_extension": ".py",
   "mimetype": "text/x-python",
   "name": "python",
   "nbconvert_exporter": "python",
   "pygments_lexer": "ipython3",
   "version": "3.9.12"
  }
 },
 "nbformat": 4,
 "nbformat_minor": 5
}
