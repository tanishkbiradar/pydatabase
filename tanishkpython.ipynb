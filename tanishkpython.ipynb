{
 "cells": [
  {
   "cell_type": "markdown",
   "id": "d6c2b75a",
   "metadata": {},
   "source": [
    "# Import mysql connector"
   ]
  },
  {
   "cell_type": "code",
   "execution_count": 7,
   "id": "21c87018",
   "metadata": {},
   "outputs": [],
   "source": [
    "import mysql.connector as con"
   ]
  },
  {
   "cell_type": "markdown",
   "id": "945091d3",
   "metadata": {},
   "source": [
    "# connection to database"
   ]
  },
  {
   "cell_type": "code",
   "execution_count": 9,
   "id": "ece14161",
   "metadata": {},
   "outputs": [
    {
     "name": "stdout",
     "output_type": "stream",
     "text": [
      "<mysql.connector.connection_cext.CMySQLConnection object at 0x000002531DDBD8E0>\n"
     ]
    }
   ],
   "source": [
    "import mysql.connector as con\n",
    "new_db = con.connect(\n",
    "    host = \"localhost\",\n",
    "    user = \"root\",\n",
    "    password = \"root\"\n",
    ")\n",
    "print(new_db)"
   ]
  },
  {
   "cell_type": "markdown",
   "id": "69e098fc",
   "metadata": {},
   "source": [
    "# creating a database"
   ]
  },
  {
   "cell_type": "code",
   "execution_count": 10,
   "id": "9e7b37d1",
   "metadata": {},
   "outputs": [],
   "source": [
    "import mysql.connector as con\n",
    "new_db = con.connect(\n",
    "    host = \"localhost\",\n",
    "    user = \"root\",\n",
    "    password = \"root\")\n",
    "new_cur = new_db.cursor()\n",
    "new_cur.execute(\"CREATE DATABASE college\")"
   ]
  },
  {
   "cell_type": "markdown",
   "id": "b4fdda3e",
   "metadata": {},
   "source": [
    "# check if database exist"
   ]
  },
  {
   "cell_type": "code",
   "execution_count": 11,
   "id": "a86d6c4b",
   "metadata": {},
   "outputs": [
    {
     "name": "stdout",
     "output_type": "stream",
     "text": [
      "('college',)\n",
      "('information_schema',)\n",
      "('mysql',)\n",
      "('performance_schema',)\n",
      "('sakila',)\n",
      "('sys',)\n",
      "('world',)\n"
     ]
    }
   ],
   "source": [
    "import mysql.connector as con\n",
    "new_db = con.connect(\n",
    "    host = \"localhost\",\n",
    "    user = \"root\",\n",
    "    password = \"root\")\n",
    "new_cur = new_db.cursor()\n",
    "new_cur.execute(\"SHOW DATABASES\")\n",
    "for i in new_cur:\n",
    "    print(i)"
   ]
  },
  {
   "cell_type": "markdown",
   "id": "19a1416a",
   "metadata": {},
   "source": [
    "# showing tables from database"
   ]
  },
  {
   "cell_type": "code",
   "execution_count": 18,
   "id": "9f4a32a3",
   "metadata": {},
   "outputs": [
    {
     "name": "stdout",
     "output_type": "stream",
     "text": [
      "('student',)\n",
      "('student1',)\n"
     ]
    }
   ],
   "source": [
    "import mysql.connector as con\n",
    "new_db = con.connect(\n",
    "    host = \"localhost\",\n",
    "    user = \"root\",\n",
    "    password = \"root\",\n",
    "    database = \"college\")\n",
    "new_cur = new_db.cursor()\n",
    "new_cur.execute(\"SHOW TABLES\")\n",
    "for i in new_cur:\n",
    "    print(i)"
   ]
  },
  {
   "cell_type": "markdown",
   "id": "3e0dbe44",
   "metadata": {},
   "source": [
    "# creating tables"
   ]
  },
  {
   "cell_type": "code",
   "execution_count": 15,
   "id": "bf3ec002",
   "metadata": {},
   "outputs": [],
   "source": [
    "import mysql.connector as con\n",
    "new_db = con.connect(\n",
    "    host = \"localhost\",\n",
    "    user = \"root\",\n",
    "    password = \"root\",\n",
    "    database = \"college\")\n",
    "new_cur = new_db.cursor()\n",
    "new_cur.execute(\"CREATE TABLE student1(name varchar(900),regno varchar(10))\")\n"
   ]
  },
  {
   "cell_type": "markdown",
   "id": "4570d9c8",
   "metadata": {},
   "source": [
    "# inserting into tables"
   ]
  },
  {
   "cell_type": "code",
   "execution_count": 20,
   "id": "322206a7",
   "metadata": {},
   "outputs": [
    {
     "name": "stdout",
     "output_type": "stream",
     "text": [
      "1 new record inserted\n"
     ]
    }
   ],
   "source": [
    "import mysql.connector as con\n",
    "new_db = con.connect(\n",
    "    host = \"localhost\",\n",
    "    user = \"root\",\n",
    "    password = \"root\",\n",
    "    database = \"college\")\n",
    "new_cur = new_db.cursor()\n",
    "query = \"INSERT INTO student1(name,regno) values(%s,%s)\"\n",
    "values = \"tanishk\",\"393cs20029\"\n",
    "new_cur.execute(query,values)\n",
    "new_db.commit()\n",
    "print(new_cur.rowcount,\"new record inserted\")\n"
   ]
  },
  {
   "cell_type": "markdown",
   "id": "61bc04c2",
   "metadata": {},
   "source": [
    "# inserting multiple values into table"
   ]
  },
  {
   "cell_type": "code",
   "execution_count": 29,
   "id": "63b395db",
   "metadata": {},
   "outputs": [
    {
     "name": "stdout",
     "output_type": "stream",
     "text": [
      "4 new record inserted\n"
     ]
    }
   ],
   "source": [
    "import mysql.connector as con\n",
    "new_db = con.connect(\n",
    "    host = \"localhost\",\n",
    "    user = \"root\",\n",
    "    password = \"root\",\n",
    "    database = \"college\")\n",
    "new_cur = new_db.cursor()\n",
    "query = \"INSERT INTO student1(name,regno) values(%s,%s)\"\n",
    "values = [(\"abhishek\",\"393cs19002\"),\n",
    "          (\"rahul\",\"393cs20012\"),\n",
    "          (\"prajwal\",\"393cs20013\"),\n",
    "          (\"gururaj\",\"393cs21702\")\n",
    "         ]\n",
    "new_cur.executemany(query,values)\n",
    "new_db.commit()\n",
    "print(new_cur.rowcount,\"new record inserted\")\n"
   ]
  },
  {
   "cell_type": "code",
   "execution_count": 32,
   "id": "c7384ce5",
   "metadata": {},
   "outputs": [
    {
     "name": "stdout",
     "output_type": "stream",
     "text": [
      "('tanishk', '393cs20029')\n",
      "('abhishek', '393cs19002')\n",
      "('rahul', '393cs20012')\n",
      "('prajwal', '393cs20013')\n",
      "('gururaj', '393cs21702')\n"
     ]
    }
   ],
   "source": [
    "import mysql.connector as con\n",
    "new_db = con.connect(\n",
    "    host = \"localhost\",\n",
    "    user = \"root\",\n",
    "    password = \"root\",\n",
    "    database = \"college\")\n",
    "new_cur = new_db.cursor()\n",
    "new_cur.execute(\"SELECT * FROM student1\")\n",
    "for i in new_cur:\n",
    "    print(i)"
   ]
  },
  {
   "cell_type": "code",
   "execution_count": null,
   "id": "a5572a10",
   "metadata": {},
   "outputs": [],
   "source": [
    "import mysql.connector as con\n",
    "new_db = con.connect(\n",
    "    host = \"localhost\",\n",
    "    user = \"root\",\n",
    "    password = \"root\",\n",
    "    database = \"college\")\n",
    "new_cur = new_db.cursor()\n",
    "new_cur.execute(\"SELECT name FROM student1\")\n",
    "for i in new_cur:\n",
    "    print(i)"
   ]
  },
  {
   "cell_type": "code",
   "execution_count": 1,
   "id": "4cdb168a",
   "metadata": {},
   "outputs": [
    {
     "name": "stdout",
     "output_type": "stream",
     "text": [
      "('tanishk', '393cs20029')\n",
      "('abhishek', '393cs19002')\n",
      "('rahul', '393cs20012')\n",
      "('prajwal', '393cs20013')\n",
      "('gururaj', '393cs21702')\n"
     ]
    }
   ],
   "source": [
    "import mysql.connector as con\n",
    "new_db = con.connect(\n",
    "    host = \"localhost\",\n",
    "    user = \"root\",\n",
    "    password = \"root\",\n",
    "    database = \"college\")\n",
    "new_cur = new_db.cursor()\n",
    "new_cur.execute(\"SELECT * FROM student1\")\n",
    "for i in new_cur:\n",
    "    print(i)"
   ]
  },
  {
   "cell_type": "code",
   "execution_count": null,
   "id": "572cb5f0",
   "metadata": {},
   "outputs": [],
   "source": []
  }
 ],
 "metadata": {
  "kernelspec": {
   "display_name": "Python 3 (ipykernel)",
   "language": "python",
   "name": "python3"
  },
  "language_info": {
   "codemirror_mode": {
    "name": "ipython",
    "version": 3
   },
   "file_extension": ".py",
   "mimetype": "text/x-python",
   "name": "python",
   "nbconvert_exporter": "python",
   "pygments_lexer": "ipython3",
   "version": "3.9.12"
  }
 },
 "nbformat": 4,
 "nbformat_minor": 5
}
