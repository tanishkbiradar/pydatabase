{
 "cells": [
  {
   "cell_type": "markdown",
   "id": "d6c2b75a",
   "metadata": {},
   "source": [
    "# Import mysql connector"
   ]
  },
  {
   "cell_type": "code",
   "execution_count": 7,
   "id": "21c87018",
   "metadata": {},
   "outputs": [],
   "source": [
    "import mysql.connector as con"
   ]
  },
  {
   "cell_type": "markdown",
   "id": "945091d3",
   "metadata": {},
   "source": [
    "# connection to database"
   ]
  },
  {
   "cell_type": "code",
   "execution_count": 9,
   "id": "ece14161",
   "metadata": {},
   "outputs": [
    {
     "name": "stdout",
     "output_type": "stream",
     "text": [
      "<mysql.connector.connection_cext.CMySQLConnection object at 0x000002531DDBD8E0>\n"
     ]
    }
   ],
   "source": [
    "import mysql.connector as con\n",
    "new_db = con.connect(\n",
    "    host = \"localhost\",\n",
    "    user = \"root\",\n",
    "    password = \"root\"\n",
    ")\n",
    "print(new_db)"
   ]
  },
  {
   "cell_type": "markdown",
   "id": "69e098fc",
   "metadata": {},
   "source": [
    "# creating a database"
   ]
  },
  {
   "cell_type": "code",
   "execution_count": 10,
   "id": "9e7b37d1",
   "metadata": {},
   "outputs": [],
   "source": [
    "import mysql.connector as con\n",
    "new_db = con.connect(\n",
    "    host = \"localhost\",\n",
    "    user = \"root\",\n",
    "    password = \"root\")\n",
    "new_cur = new_db.cursor()\n",
    "new_cur.execute(\"CREATE DATABASE college\")"
   ]
  },
  {
   "cell_type": "markdown",
   "id": "b4fdda3e",
   "metadata": {},
   "source": [
    "# check if database exist"
   ]
  },
  {
   "cell_type": "code",
   "execution_count": 11,
   "id": "a86d6c4b",
   "metadata": {},
   "outputs": [
    {
     "name": "stdout",
     "output_type": "stream",
     "text": [
      "('college',)\n",
      "('information_schema',)\n",
      "('mysql',)\n",
      "('performance_schema',)\n",
      "('sakila',)\n",
      "('sys',)\n",
      "('world',)\n"
     ]
    }
   ],
   "source": [
    "import mysql.connector as con\n",
    "new_db = con.connect(\n",
    "    host = \"localhost\",\n",
    "    user = \"root\",\n",
    "    password = \"root\")\n",
    "new_cur = new_db.cursor()\n",
    "new_cur.execute(\"SHOW DATABASES\")\n",
    "for i in new_cur:\n",
    "    print(i)"
   ]
  },
  {
   "cell_type": "markdown",
   "id": "19a1416a",
   "metadata": {},
   "source": [
    "# showing tables from database"
   ]
  },
  {
   "cell_type": "code",
   "execution_count": 18,
   "id": "9f4a32a3",
   "metadata": {},
   "outputs": [
    {
     "name": "stdout",
     "output_type": "stream",
     "text": [
      "('student',)\n",
      "('student1',)\n"
     ]
    }
   ],
   "source": [
    "import mysql.connector as con\n",
    "new_db = con.connect(\n",
    "    host = \"localhost\",\n",
    "    user = \"root\",\n",
    "    password = \"root\",\n",
    "    database = \"college\")\n",
    "new_cur = new_db.cursor()\n",
    "new_cur.execute(\"SHOW TABLES\")\n",
    "for i in new_cur:\n",
    "    print(i)"
   ]
  },
  {
   "cell_type": "markdown",
   "id": "3e0dbe44",
   "metadata": {},
   "source": [
    "# creating tables"
   ]
  },
  {
   "cell_type": "code",
   "execution_count": 15,
   "id": "bf3ec002",
   "metadata": {},
   "outputs": [],
   "source": [
    "import mysql.connector as con\n",
    "new_db = con.connect(\n",
    "    host = \"localhost\",\n",
    "    user = \"root\",\n",
    "    password = \"root\",\n",
    "    database = \"college\")\n",
    "new_cur = new_db.cursor()\n",
    "new_cur.execute(\"CREATE TABLE student1(name varchar(900),regno varchar(10))\")\n"
   ]
  },
  {
   "cell_type": "markdown",
   "id": "4570d9c8",
   "metadata": {},
   "source": [
    "# inserting into tables"
   ]
  },
  {
   "cell_type": "code",
   "execution_count": 20,
   "id": "322206a7",
   "metadata": {},
   "outputs": [
    {
     "name": "stdout",
     "output_type": "stream",
     "text": [
      "1 new record inserted\n"
     ]
    }
   ],
   "source": [
    "import mysql.connector as con\n",
    "new_db = con.connect(\n",
    "    host = \"localhost\",\n",
    "    user = \"root\",\n",
    "    password = \"root\",\n",
    "    database = \"college\")\n",
    "new_cur = new_db.cursor()\n",
    "query = \"INSERT INTO student1(name,regno) values(%s,%s)\"\n",
    "values = \"tanishk\",\"393cs20029\"\n",
    "new_cur.execute(query,values)\n",
    "new_db.commit()\n",
    "print(new_cur.rowcount,\"new record inserted\")\n"
   ]
  },
  {
   "cell_type": "markdown",
   "id": "61bc04c2",
   "metadata": {},
   "source": [
    "# inserting multiple values into table"
   ]
  },
  {
   "cell_type": "code",
   "execution_count": 29,
   "id": "63b395db",
   "metadata": {},
   "outputs": [
    {
     "name": "stdout",
     "output_type": "stream",
     "text": [
      "4 new record inserted\n"
     ]
    }
   ],
   "source": [
    "import mysql.connector as con\n",
    "new_db = con.connect(\n",
    "    host = \"localhost\",\n",
    "    user = \"root\",\n",
    "    password = \"root\",\n",
    "    database = \"college\")\n",
    "new_cur = new_db.cursor()\n",
    "query = \"INSERT INTO student1(name,regno) values(%s,%s)\"\n",
    "values = [(\"abhishek\",\"393cs19002\"),\n",
    "          (\"rahul\",\"393cs20012\"),\n",
    "          (\"prajwal\",\"393cs20013\"),\n",
    "          (\"gururaj\",\"393cs21702\")\n",
    "         ]\n",
    "new_cur.executemany(query,values)\n",
    "new_db.commit()\n",
    "print(new_cur.rowcount,\"new record inserted\")\n"
   ]
  },
  {
   "cell_type": "code",
   "execution_count": 32,
   "id": "c7384ce5",
   "metadata": {},
   "outputs": [
    {
     "name": "stdout",
     "output_type": "stream",
     "text": [
      "('tanishk', '393cs20029')\n",
      "('abhishek', '393cs19002')\n",
      "('rahul', '393cs20012')\n",
      "('prajwal', '393cs20013')\n",
      "('gururaj', '393cs21702')\n"
     ]
    }
   ],
   "source": [
    "import mysql.connector as con\n",
    "new_db = con.connect(\n",
    "    host = \"localhost\",\n",
    "    user = \"root\",\n",
    "    password = \"root\",\n",
    "    database = \"college\")\n",
    "new_cur = new_db.cursor()\n",
    "new_cur.execute(\"SELECT * FROM student1\")\n",
    "for i in new_cur:\n",
    "    print(i)"
   ]
  },
  {
   "cell_type": "code",
   "execution_count": null,
   "id": "a5572a10",
   "metadata": {},
   "outputs": [],
   "source": [
    "import mysql.connector as con\n",
    "new_db = con.connect(\n",
    "    host = \"localhost\",\n",
    "    user = \"root\",\n",
    "    password = \"root\",\n",
    "    database = \"college\")\n",
    "new_cur = new_db.cursor()\n",
    "new_cur.execute(\"SELECT name FROM student1\")\n",
    "for i in new_cur:\n",
    "    print(i)"
   ]
  },
  {
   "cell_type": "code",
   "execution_count": 1,
   "id": "4ac66d1d",
   "metadata": {},
   "outputs": [
    {
     "name": "stdout",
     "output_type": "stream",
     "text": [
      "('tanishk',)\n",
      "('abhishek',)\n",
      "('rahul',)\n",
      "('prajwal',)\n",
      "('gururaj',)\n"
     ]
    }
   ],
   "source": [
    "import mysql.connector as con\n",
    "new_db = con.connect(\n",
    "    host = \"localhost\",\n",
    "    user = \"root\",\n",
    "    password = \"root\",\n",
    "    database = \"college\")\n",
    "new_cur = new_db.cursor()\n",
    "new_cur.execute(\"SELECT name FROM student1\")\n",
    "for i in new_cur:\n",
    "    print(i)"
   ]
  },
  {
   "cell_type": "code",
   "execution_count": 1,
   "id": "4cdb168a",
   "metadata": {},
   "outputs": [
    {
     "name": "stdout",
     "output_type": "stream",
     "text": [
      "('tanishk', '393cs20029')\n",
      "('abhishek', '393cs19002')\n",
      "('rahul', '393cs20012')\n",
      "('prajwal', '393cs20013')\n",
      "('gururaj', '393cs21702')\n"
     ]
    }
   ],
   "source": [
    "import mysql.connector as con\n",
    "new_db = con.connect(\n",
    "    host = \"localhost\",\n",
    "    user = \"root\",\n",
    "    password = \"root\",\n",
    "    database = \"college\")\n",
    "new_cur = new_db.cursor()\n",
    "new_cur.execute(\"SELECT * FROM student1\")\n",
    "for i in new_cur:\n",
    "    print(i)"
   ]
  },
  {
   "cell_type": "code",
   "execution_count": 29,
   "id": "4ec8ec91",
   "metadata": {},
   "outputs": [
    {
     "name": "stdout",
     "output_type": "stream",
     "text": [
      "[[3 2 5]\n",
      " [3 2 5]\n",
      " [3 2 5]]\n",
      "int32\n",
      "(3, 3)\n"
     ]
    }
   ],
   "source": [
    "import numpy as np\n",
    "arr = np.array([[3,2,5],\n",
    "               [3,2,5],\n",
    "               [3,2,5]])\n",
    "print(arr)\n",
    "print(arr.dtype)\n",
    "print(arr.shape)"
   ]
  },
  {
   "cell_type": "code",
   "execution_count": 29,
   "id": "8a91c77d",
   "metadata": {},
   "outputs": [
    {
     "name": "stdout",
     "output_type": "stream",
     "text": [
      "[[3 2 5]\n",
      " [3 2 5]\n",
      " [3 2 5]]\n",
      "int32\n",
      "(3, 3)\n"
     ]
    }
   ],
   "source": [
    "import numpy as np\n",
    "arr = np.array([[3,2,5],\n",
    "               [3,2,5],\n",
    "               [3,2,5]])\n",
    "print(arr)\n",
    "print(arr.dtype)\n",
    "print(arr.shape)"
   ]
  },
  {
   "cell_type": "code",
   "execution_count": 30,
   "id": "7b7de4a2",
   "metadata": {},
   "outputs": [
    {
     "name": "stdout",
     "output_type": "stream",
     "text": [
      "[3 2 5]\n",
      "int32\n",
      "(3,)\n"
     ]
    }
   ],
   "source": [
    "import numpy as np\n",
    "arr = np.array([3,2,5])\n",
    "print(arr)\n",
    "print(arr.dtype)\n",
    "print(arr.shape)"
   ]
  },
  {
   "cell_type": "markdown",
   "id": "23bb81c8",
   "metadata": {},
   "source": [
    "# example of rand"
   ]
  },
  {
   "cell_type": "code",
   "execution_count": 7,
   "id": "b1fd8d7a",
   "metadata": {},
   "outputs": [
    {
     "name": "stdout",
     "output_type": "stream",
     "text": [
      "[[[0.60250551 0.39361733 0.13344856 0.82398468 0.02626658]\n",
      "  [0.12930312 0.80224919 0.38259547 0.03919851 0.60816936]]\n",
      "\n",
      " [[0.65293375 0.42953539 0.2967605  0.59025042 0.05627163]\n",
      "  [0.21862698 0.60018878 0.39434875 0.97866772 0.07124361]]\n",
      "\n",
      " [[0.7989858  0.08352609 0.82541146 0.2566444  0.44906697]\n",
      "  [0.24657831 0.91384536 0.99051004 0.84553879 0.66775806]]]\n",
      "float64\n",
      "(3, 2, 5)\n"
     ]
    }
   ],
   "source": [
    "import numpy as np\n",
    "arr = np.random.rand(3,2,5)\n",
    "print(arr)\n",
    "print(arr.dtype)\n",
    "print(arr.shape)"
   ]
  },
  {
   "cell_type": "code",
   "execution_count": 6,
   "id": "20065fb6",
   "metadata": {},
   "outputs": [
    {
     "name": "stdout",
     "output_type": "stream",
     "text": [
      "[[[ 0.88448269 -0.69114051]\n",
      "  [-0.27382475  0.79640643]]\n",
      "\n",
      " [[ 0.28218511  0.79692685]\n",
      "  [ 0.09735775  1.02838432]]\n",
      "\n",
      " [[ 0.84229529 -0.12316504]\n",
      "  [-2.02998994 -0.45162206]]]\n",
      "float64\n",
      "(3, 2, 2)\n"
     ]
    }
   ],
   "source": [
    "import numpy as np\n",
    "arr = np.random.randn(3,2,2)\n",
    "print(arr)\n",
    "print(arr.dtype)\n",
    "print(arr.shape)"
   ]
  },
  {
   "cell_type": "code",
   "execution_count": 26,
   "id": "748b446e",
   "metadata": {},
   "outputs": [
    {
     "name": "stdout",
     "output_type": "stream",
     "text": [
      "3\n",
      "9\n",
      "3\n",
      "9\n",
      "3\n",
      "9\n",
      "3\n",
      "9\n"
     ]
    }
   ],
   "source": [
    "import numpy as np\n",
    "arr = np.array([[1,2,3,4,5],[6,7,8,9,0]])\n",
    "print(arr[0,2])\n",
    "print(arr[1,3])\n",
    "print(arr[-2,-3])\n",
    "print(arr[-1,-2])\n",
    "print(arr[0,-3])\n",
    "print(arr[1,-2])\n",
    "print(arr[-2,2])\n",
    "print(arr[-1,3])\n"
   ]
  },
  {
   "cell_type": "code",
   "execution_count": null,
   "id": "976f1f41",
   "metadata": {},
   "outputs": [],
   "source": [
    "# import numpy as np\n",
    "arr = np.array([1,2,3,4,5,6,7,8,9])\n",
    "print(arr)\n",
    "print(arr.dtype)\n",
    "print(arr.shape)\n",
    "print(arr[0]+arr[1])"
   ]
  },
  {
   "cell_type": "markdown",
   "id": "27114a41",
   "metadata": {},
   "source": [
    "# slice elements from index 1 to index 5 from the following array"
   ]
  },
  {
   "cell_type": "code",
   "execution_count": 45,
   "id": "7c1f52e2",
   "metadata": {},
   "outputs": [
    {
     "name": "stdout",
     "output_type": "stream",
     "text": [
      "[2 3 4 5]\n"
     ]
    }
   ],
   "source": [
    "import numpy as np\n",
    "a=np.array([1,2,3,4,5,6,7])\n",
    "print(a[1:5])"
   ]
  },
  {
   "cell_type": "markdown",
   "id": "9b7bac34",
   "metadata": {},
   "source": [
    "# slice elements from index 4 to the end of the array"
   ]
  },
  {
   "cell_type": "code",
   "execution_count": 44,
   "id": "f60415d5",
   "metadata": {},
   "outputs": [
    {
     "name": "stdout",
     "output_type": "stream",
     "text": [
      "[5 6 7]\n"
     ]
    }
   ],
   "source": [
    "import numpy as np\n",
    "a=np.array([1,2,3,4,5,6,7])\n",
    "print(a[4:])"
   ]
  },
  {
   "cell_type": "markdown",
   "id": "73ec6135",
   "metadata": {},
   "source": [
    "# slice elements from beginning index 4(n0t included)"
   ]
  },
  {
   "cell_type": "code",
   "execution_count": 43,
   "id": "ccdc4952",
   "metadata": {},
   "outputs": [
    {
     "name": "stdout",
     "output_type": "stream",
     "text": [
      "[1 2 3 4]\n"
     ]
    }
   ],
   "source": [
    "import numpy as np\n",
    "a=np.array([1,2,3,4,5,6,7])\n",
    "print(a[:4])"
   ]
  },
  {
   "cell_type": "markdown",
   "id": "c85eb646",
   "metadata": {},
   "source": [
    "# negative slicing\n",
    "slice from index 3 from the end to index 1 from the end:"
   ]
  },
  {
   "cell_type": "code",
   "execution_count": 42,
   "id": "5017bd22",
   "metadata": {},
   "outputs": [
    {
     "name": "stdout",
     "output_type": "stream",
     "text": [
      "[5 6]\n"
     ]
    }
   ],
   "source": [
    "import numpy as np\n",
    "a=np.array([1,2,3,4,5,6,7])\n",
    "print(a[-3:-1])"
   ]
  },
  {
   "cell_type": "markdown",
   "id": "c3f20a3a",
   "metadata": {},
   "source": [
    "#return every other element from index 1 to index 5"
   ]
  },
  {
   "cell_type": "code",
   "execution_count": 46,
   "id": "84ec113c",
   "metadata": {},
   "outputs": [
    {
     "name": "stdout",
     "output_type": "stream",
     "text": [
      "[2 4]\n"
     ]
    }
   ],
   "source": [
    "import numpy as np\n",
    "a=np.array([1,2,3,4,5,6,7])\n",
    "print(a[1:5:2])"
   ]
  },
  {
   "cell_type": "markdown",
   "id": "7b1ca15f",
   "metadata": {},
   "source": [
    "return every other element from entire array"
   ]
  },
  {
   "cell_type": "code",
   "execution_count": 48,
   "id": "96ad5c7e",
   "metadata": {},
   "outputs": [
    {
     "name": "stdout",
     "output_type": "stream",
     "text": [
      "[1 3 5 7]\n"
     ]
    }
   ],
   "source": [
    "import numpy as np\n",
    "a=np.array([1,2,3,4,5,6,7])\n",
    "print(a[::2])"
   ]
  },
  {
   "cell_type": "markdown",
   "id": "fe85f8c8",
   "metadata": {},
   "source": [
    "# slicing 2d array"
   ]
  },
  {
   "cell_type": "markdown",
   "id": "0cfa14e8",
   "metadata": {},
   "source": [
    "from the second element,slice the element from index 1 to index 4(not included)"
   ]
  },
  {
   "cell_type": "code",
   "execution_count": 52,
   "id": "37ab459c",
   "metadata": {},
   "outputs": [
    {
     "name": "stdout",
     "output_type": "stream",
     "text": [
      "[7 8 9]\n"
     ]
    }
   ],
   "source": [
    "import numpy as np\n",
    "a=np.array([[1,2,3,4,5],[6,7,8,9,0]])\n",
    "print(a[1,1:4])"
   ]
  },
  {
   "cell_type": "markdown",
   "id": "7c0da5f2",
   "metadata": {},
   "source": [
    "from both arrays, return index 2:"
   ]
  },
  {
   "cell_type": "code",
   "execution_count": 53,
   "id": "aa913e31",
   "metadata": {},
   "outputs": [
    {
     "name": "stdout",
     "output_type": "stream",
     "text": [
      "[3 8]\n"
     ]
    }
   ],
   "source": [
    "import numpy as np\n",
    "a=np.array([[1,2,3,4,5],[6,7,8,9,0]])\n",
    "print(a[0:2,2])"
   ]
  },
  {
   "cell_type": "markdown",
   "id": "8aa47f7e",
   "metadata": {},
   "source": [
    "from both elements, slic eindex 1 to index 4(not included), this will return a 2d array"
   ]
  },
  {
   "cell_type": "code",
   "execution_count": 58,
   "id": "325c4d15",
   "metadata": {},
   "outputs": [
    {
     "name": "stdout",
     "output_type": "stream",
     "text": [
      "[[2 3 4]\n",
      " [7 8 9]]\n"
     ]
    }
   ],
   "source": [
    "import numpy as np\n",
    "a=np.array([[1,2,3,4,5],[6,7,8,9,0]])\n",
    "print(a[0:2,1:4])"
   ]
  },
  {
   "cell_type": "markdown",
   "id": "2c2cb68d",
   "metadata": {},
   "source": [
    "array copy :in this copy dosent effect real one if any changes happend"
   ]
  },
  {
   "cell_type": "code",
   "execution_count": 4,
   "id": "e34b6e3f",
   "metadata": {},
   "outputs": [
    {
     "name": "stdout",
     "output_type": "stream",
     "text": [
      "[1 2 3 4]\n",
      "[20  2  3  4]\n"
     ]
    }
   ],
   "source": [
    "import numpy as np\n",
    "a=np.array([1,2,3,4])\n",
    "b=np.copy(a)\n",
    "print(a)\n",
    "b[0]=20\n",
    "print(b)"
   ]
  },
  {
   "cell_type": "markdown",
   "id": "991881eb",
   "metadata": {},
   "source": [
    "array view : view effect real one if any changes happend"
   ]
  },
  {
   "cell_type": "code",
   "execution_count": 11,
   "id": "79d519f1",
   "metadata": {},
   "outputs": [
    {
     "name": "stdout",
     "output_type": "stream",
     "text": [
      "[1 2 8 4 5]\n",
      "[1 2 8 4 5]\n"
     ]
    }
   ],
   "source": [
    "import numpy as np\n",
    "a=np.array([1,2,3,4,5])\n",
    "b=a.view()\n",
    "a[2]=8\n",
    "print(a)\n",
    "print(b)\n"
   ]
  },
  {
   "cell_type": "markdown",
   "id": "aa7f6fb5",
   "metadata": {},
   "source": [
    "array reshaping : by using this function we can shape the give array "
   ]
  },
  {
   "cell_type": "code",
   "execution_count": 13,
   "id": "589a27b9",
   "metadata": {},
   "outputs": [
    {
     "name": "stdout",
     "output_type": "stream",
     "text": [
      "[1 2 3 4]\n",
      "[[1 2]\n",
      " [3 4]]\n"
     ]
    }
   ],
   "source": [
    "import numpy as np\n",
    "a=np.array([1,2,3,4])\n",
    "b=a.reshape(2,2)\n",
    "print(a)\n",
    "print(b)"
   ]
  },
  {
   "cell_type": "code",
   "execution_count": 14,
   "id": "51ce69d4",
   "metadata": {},
   "outputs": [
    {
     "name": "stdout",
     "output_type": "stream",
     "text": [
      "[1 2 3 4 5 6 7 8 9 0]\n",
      "[[1 2]\n",
      " [3 4]\n",
      " [5 6]\n",
      " [7 8]\n",
      " [9 0]]\n"
     ]
    }
   ],
   "source": [
    "import numpy as np\n",
    "a=np.array([1,2,3,4,5,6,7,8,9,0])\n",
    "b=a.reshape(5,2)\n",
    "print(a)\n",
    "print(b)"
   ]
  },
  {
   "cell_type": "code",
   "execution_count": 15,
   "id": "b7cae212",
   "metadata": {},
   "outputs": [
    {
     "name": "stdout",
     "output_type": "stream",
     "text": [
      "[ 1  2  3  4  5  6  7  8  9 10 11 12]\n",
      "[[[ 1  2]\n",
      "  [ 3  4]]\n",
      "\n",
      " [[ 5  6]\n",
      "  [ 7  8]]\n",
      "\n",
      " [[ 9 10]\n",
      "  [11 12]]]\n"
     ]
    }
   ],
   "source": [
    "import numpy as np\n",
    "a=np.array([1,2,3,4,5,6,7,8,9,10,11,12])\n",
    "b=a.reshape(3,2,2)\n",
    "print(a)\n",
    "print(b)"
   ]
  },
  {
   "cell_type": "markdown",
   "id": "a130c8ea",
   "metadata": {},
   "source": [
    "array sum :by using this function we can add array "
   ]
  },
  {
   "cell_type": "code",
   "execution_count": 17,
   "id": "c78a32ea",
   "metadata": {},
   "outputs": [
    {
     "name": "stdout",
     "output_type": "stream",
     "text": [
      "[1 2 3 4]\n",
      "10\n"
     ]
    }
   ],
   "source": [
    "import numpy as np\n",
    "a=np.array([1,2,3,4])\n",
    "b=np.sum(a)\n",
    "print(a)\n",
    "print(b)"
   ]
  },
  {
   "cell_type": "code",
   "execution_count": 22,
   "id": "b1383fc9",
   "metadata": {},
   "outputs": [
    {
     "name": "stdout",
     "output_type": "stream",
     "text": [
      "[[1 2 3 4]\n",
      " [1 2 3 4]]\n",
      "[2 4 6 8]\n"
     ]
    }
   ],
   "source": [
    "import numpy as np\n",
    "a=np.array([[1,2,3,4],\n",
    "           [1,2,3,4]])\n",
    "b=np.sum(a, axis = 0)\n",
    "print(a)\n",
    "print(b)"
   ]
  },
  {
   "cell_type": "markdown",
   "id": "7339f850",
   "metadata": {},
   "source": [
    "mean "
   ]
  },
  {
   "cell_type": "code",
   "execution_count": 26,
   "id": "8cd90c17",
   "metadata": {},
   "outputs": [
    {
     "name": "stdout",
     "output_type": "stream",
     "text": [
      "[1 2 3 4]\n",
      "2.5\n"
     ]
    }
   ],
   "source": [
    "import numpy as np\n",
    "a=np.array([1,2,3,4])\n",
    "b=np.mean(a)\n",
    "print(a)\n",
    "print(b)"
   ]
  },
  {
   "cell_type": "code",
   "execution_count": 30,
   "id": "9ac03ee4",
   "metadata": {},
   "outputs": [
    {
     "name": "stdout",
     "output_type": "stream",
     "text": [
      "[[1 2 3 4]\n",
      " [8 2 3 4]]\n",
      "[2.5  4.25]\n"
     ]
    }
   ],
   "source": [
    "import numpy as np\n",
    "a=np.array([[1,2,3,4],\n",
    "            [8,2,3,4]])\n",
    "b=np.mean(a , axis = 1)\n",
    "print(a)\n",
    "print(b)"
   ]
  },
  {
   "cell_type": "markdown",
   "id": "d0b56fb6",
   "metadata": {},
   "source": [
    "std"
   ]
  },
  {
   "cell_type": "code",
   "execution_count": 32,
   "id": "75c12b9c",
   "metadata": {},
   "outputs": [
    {
     "name": "stdout",
     "output_type": "stream",
     "text": [
      "[[1 2 3 4]\n",
      " [8 2 3 4]]\n",
      "[4.5 2.  3.  4. ]\n"
     ]
    }
   ],
   "source": [
    "import numpy as np\n",
    "a=np.array([[1,2,3,4],\n",
    "            [8,2,3,4]])\n",
    "b=np.mean(a , axis = 0)\n",
    "print(a)\n",
    "print(b)"
   ]
  },
  {
   "cell_type": "code",
   "execution_count": 31,
   "id": "a66929f2",
   "metadata": {},
   "outputs": [
    {
     "name": "stdout",
     "output_type": "stream",
     "text": [
      "[[1 2 3 4]\n",
      " [8 2 3 4]]\n",
      "[1.11803399 2.27760839]\n"
     ]
    }
   ],
   "source": [
    "import numpy as np\n",
    "a=np.array([[1,2,3,4],\n",
    "            [8,2,3,4]])\n",
    "b=np.std(a , axis = 1)\n",
    "print(a)\n",
    "print(b)"
   ]
  },
  {
   "cell_type": "code",
   "execution_count": 33,
   "id": "4496ecc8",
   "metadata": {},
   "outputs": [
    {
     "name": "stdout",
     "output_type": "stream",
     "text": [
      "[[1 2 3 4]\n",
      " [8 2 3 4]]\n",
      "[3.5 0.  0.  0. ]\n"
     ]
    }
   ],
   "source": [
    "import numpy as np\n",
    "a=np.array([[1,2,3,4],\n",
    "            [8,2,3,4]])\n",
    "b=np.std(a , axis = 0)\n",
    "print(a)\n",
    "print(b)"
   ]
  },
  {
   "cell_type": "markdown",
   "id": "03070b66",
   "metadata": {},
   "source": [
    "array var"
   ]
  },
  {
   "cell_type": "code",
   "execution_count": 34,
   "id": "1b3bef4e",
   "metadata": {},
   "outputs": [
    {
     "name": "stdout",
     "output_type": "stream",
     "text": [
      "[[1 2 3 4]\n",
      " [8 2 3 4]]\n",
      "[1.25   5.1875]\n"
     ]
    }
   ],
   "source": [
    "import numpy as np\n",
    "a=np.array([[1,2,3,4],\n",
    "            [8,2,3,4]])\n",
    "b=np.var(a , axis = 1)\n",
    "print(a)\n",
    "print(b)"
   ]
  },
  {
   "cell_type": "code",
   "execution_count": 35,
   "id": "6a4038e8",
   "metadata": {},
   "outputs": [
    {
     "name": "stdout",
     "output_type": "stream",
     "text": [
      "[[1 2 3 4]\n",
      " [8 2 3 4]]\n",
      "[12.25  0.    0.    0.  ]\n"
     ]
    }
   ],
   "source": [
    "import numpy as np\n",
    "a=np.array([[1,2,3,4],\n",
    "            [8,2,3,4]])\n",
    "b=np.var(a , axis = 0)\n",
    "print(a)\n",
    "print(b)"
   ]
  },
  {
   "cell_type": "markdown",
   "id": "53b222f0",
   "metadata": {},
   "source": [
    "array min"
   ]
  },
  {
   "cell_type": "code",
   "execution_count": 36,
   "id": "c557da9c",
   "metadata": {},
   "outputs": [
    {
     "name": "stdout",
     "output_type": "stream",
     "text": [
      "[[1 2 3 4]\n",
      " [8 2 3 4]]\n",
      "[1 2]\n"
     ]
    }
   ],
   "source": [
    "import numpy as np\n",
    "a=np.array([[1,2,3,4],\n",
    "            [8,2,3,4]])\n",
    "b=np.min(a , axis = 1)\n",
    "print(a)\n",
    "print(b)"
   ]
  },
  {
   "cell_type": "code",
   "execution_count": 39,
   "id": "5a0fbf7f",
   "metadata": {},
   "outputs": [
    {
     "name": "stdout",
     "output_type": "stream",
     "text": [
      "[[1 2 3 4]\n",
      " [8 2 3 4]]\n",
      "[1 2 3 4]\n"
     ]
    }
   ],
   "source": [
    "import numpy as np\n",
    "a=np.array([[1,2,3,4],\n",
    "            [8,2,3,4]])\n",
    "b=np.min(a , axis = 0)\n",
    "print(a)\n",
    "print(b)"
   ]
  },
  {
   "cell_type": "markdown",
   "id": "14c290b0",
   "metadata": {},
   "source": [
    "array max"
   ]
  },
  {
   "cell_type": "code",
   "execution_count": 37,
   "id": "be6cf540",
   "metadata": {},
   "outputs": [
    {
     "name": "stdout",
     "output_type": "stream",
     "text": [
      "[[1 2 3 4]\n",
      " [8 2 3 4]]\n",
      "[4 8]\n"
     ]
    }
   ],
   "source": [
    "import numpy as np\n",
    "a=np.array([[1,2,3,4],\n",
    "            [8,2,3,4]])\n",
    "b=np.max(a , axis = 1)\n",
    "print(a)\n",
    "print(b)"
   ]
  },
  {
   "cell_type": "code",
   "execution_count": 40,
   "id": "cf767465",
   "metadata": {},
   "outputs": [
    {
     "name": "stdout",
     "output_type": "stream",
     "text": [
      "[[1 2 3 4]\n",
      " [8 2 3 4]]\n",
      "[8 2 3 4]\n"
     ]
    }
   ],
   "source": [
    "import numpy as np\n",
    "a=np.array([[1,2,3,4],\n",
    "            [8,2,3,4]])\n",
    "b=np.max(a , axis = 0)\n",
    "print(a)\n",
    "print(b)"
   ]
  },
  {
   "cell_type": "code",
   "execution_count": null,
   "id": "cddcb925",
   "metadata": {},
   "outputs": [],
   "source": []
  }
 ],
 "metadata": {
  "kernelspec": {
   "display_name": "Python 3 (ipykernel)",
   "language": "python",
   "name": "python3"
  },
  "language_info": {
   "codemirror_mode": {
    "name": "ipython",
    "version": 3
   },
   "file_extension": ".py",
   "mimetype": "text/x-python",
   "name": "python",
   "nbconvert_exporter": "python",
   "pygments_lexer": "ipython3",
   "version": "3.9.12"
  }
 },
 "nbformat": 4,
 "nbformat_minor": 5
}
