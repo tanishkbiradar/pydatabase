{
 "cells": [
  {
   "cell_type": "code",
   "execution_count": 7,
   "id": "0c030b5d",
   "metadata": {
    "scrolled": true
   },
   "outputs": [
    {
     "data": {
      "text/html": [
       "<div>\n",
       "<style scoped>\n",
       "    .dataframe tbody tr th:only-of-type {\n",
       "        vertical-align: middle;\n",
       "    }\n",
       "\n",
       "    .dataframe tbody tr th {\n",
       "        vertical-align: top;\n",
       "    }\n",
       "\n",
       "    .dataframe thead th {\n",
       "        text-align: right;\n",
       "    }\n",
       "</style>\n",
       "<table border=\"1\" class=\"dataframe\">\n",
       "  <thead>\n",
       "    <tr style=\"text-align: right;\">\n",
       "      <th></th>\n",
       "      <th>First Name</th>\n",
       "      <th>Last Name</th>\n",
       "      <th>Type</th>\n",
       "      <th>Department</th>\n",
       "      <th>yoE</th>\n",
       "      <th>Salary</th>\n",
       "    </tr>\n",
       "  </thead>\n",
       "  <tbody>\n",
       "    <tr>\n",
       "      <th>0</th>\n",
       "      <td>Aryan</td>\n",
       "      <td>Singh</td>\n",
       "      <td>Full Time</td>\n",
       "      <td>administration</td>\n",
       "      <td>2</td>\n",
       "      <td>20000</td>\n",
       "    </tr>\n",
       "    <tr>\n",
       "      <th>1</th>\n",
       "      <td>Rohan</td>\n",
       "      <td>Agarwal</td>\n",
       "      <td>Intern</td>\n",
       "      <td>Technical</td>\n",
       "      <td>3</td>\n",
       "      <td>5000</td>\n",
       "    </tr>\n",
       "    <tr>\n",
       "      <th>2</th>\n",
       "      <td>Riya</td>\n",
       "      <td>Shah</td>\n",
       "      <td>Full Time</td>\n",
       "      <td>administration</td>\n",
       "      <td>5</td>\n",
       "      <td>10000</td>\n",
       "    </tr>\n",
       "    <tr>\n",
       "      <th>3</th>\n",
       "      <td>Yash</td>\n",
       "      <td>Bhatia</td>\n",
       "      <td>Part Time</td>\n",
       "      <td>Technical</td>\n",
       "      <td>7</td>\n",
       "      <td>10000</td>\n",
       "    </tr>\n",
       "    <tr>\n",
       "      <th>4</th>\n",
       "      <td>Siddant</td>\n",
       "      <td>Khanna</td>\n",
       "      <td>Full Time</td>\n",
       "      <td>Management</td>\n",
       "      <td>6</td>\n",
       "      <td>20000</td>\n",
       "    </tr>\n",
       "  </tbody>\n",
       "</table>\n",
       "</div>"
      ],
      "text/plain": [
       "  First Name Last Name       Type      Department  yoE  Salary\n",
       "0      Aryan     Singh  Full Time  administration    2   20000\n",
       "1      Rohan   Agarwal     Intern       Technical    3    5000\n",
       "2       Riya      Shah  Full Time  administration    5   10000\n",
       "3       Yash    Bhatia  Part Time       Technical    7   10000\n",
       "4    Siddant    Khanna  Full Time      Management    6   20000"
      ]
     },
     "execution_count": 7,
     "metadata": {},
     "output_type": "execute_result"
    }
   ],
   "source": [
    "import pandas as pd\n",
    "from pandas import DataFrame\n",
    "dp = DataFrame([\n",
    "                 [\"Aryan\",\"Singh\",\"Full Time\",\"administration\",2,20000],\n",
    "                 [\"Rohan\",\"Agarwal\",\"Intern\",\"Technical\",3,5000],\n",
    "                 [\"Riya\",\"Shah\",\"Full Time\",\"administration\",5,10000],\n",
    "                 [\"Yash\",\"Bhatia\",\"Part Time\",\"Technical\",7,10000],\n",
    "                 [\"Siddant\",\"Khanna\",\"Full Time\",\"Management\",6,20000]\n",
    "    \n",
    "                 \n",
    "               ],columns = [\"First Name\",\"Last Name\",\"Type\",\"Department\",\"yoE\",\"Salary\"])\n",
    "dp\n",
    "\n"
   ]
  },
  {
   "cell_type": "code",
   "execution_count": 14,
   "id": "2968db32",
   "metadata": {},
   "outputs": [
    {
     "data": {
      "text/plain": [
       "0      Aryan\n",
       "1      Rohan\n",
       "2       Riya\n",
       "3       Yash\n",
       "4    Siddant\n",
       "Name: First Name, dtype: object"
      ]
     },
     "execution_count": 14,
     "metadata": {},
     "output_type": "execute_result"
    }
   ],
   "source": [
    "dp[\"First Name\"]"
   ]
  },
  {
   "cell_type": "code",
   "execution_count": null,
   "id": "7d670e18",
   "metadata": {},
   "outputs": [],
   "source": []
  }
 ],
 "metadata": {
  "kernelspec": {
   "display_name": "Python 3 (ipykernel)",
   "language": "python",
   "name": "python3"
  },
  "language_info": {
   "codemirror_mode": {
    "name": "ipython",
    "version": 3
   },
   "file_extension": ".py",
   "mimetype": "text/x-python",
   "name": "python",
   "nbconvert_exporter": "python",
   "pygments_lexer": "ipython3",
   "version": "3.9.12"
  }
 },
 "nbformat": 4,
 "nbformat_minor": 5
}
