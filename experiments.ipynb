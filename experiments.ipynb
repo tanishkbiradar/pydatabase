{
 "cells": [
  {
   "cell_type": "code",
   "execution_count": 42,
   "id": "a14768e1",
   "metadata": {},
   "outputs": [
    {
     "name": "stdout",
     "output_type": "stream",
     "text": [
      "[1, 2, 3, 4, 5]\n"
     ]
    }
   ],
   "source": [
    "from functools import reduce\n",
    "def nto(n):\n",
    "    return n*n\n",
    "abd = (1,2,3,4,5)\n",
    "abc = filter(nto,abd)\n",
    "print(list(abc))"
   ]
  },
  {
   "cell_type": "code",
   "execution_count": 12,
   "id": "c56fb731",
   "metadata": {},
   "outputs": [
    {
     "name": "stdout",
     "output_type": "stream",
     "text": [
      "[1, 2, 3, 4, 5, 6]\n"
     ]
    }
   ],
   "source": [
    "def nto(n):\n",
    "    return n*n\n",
    "a = (1,2,3,4,5,6)\n",
    "bad= filter(nto,a)\n",
    "print(list(bad))"
   ]
  },
  {
   "cell_type": "code",
   "execution_count": 28,
   "id": "7c60685a",
   "metadata": {},
   "outputs": [
    {
     "name": "stdout",
     "output_type": "stream",
     "text": [
      "[1, 2, 3, 4, 5]\n"
     ]
    }
   ],
   "source": [
    "def nto(n):\n",
    "    return n*n\n",
    "ana = [1,2,3,4,5]\n",
    "ba = filter(nto,ana)\n",
    "print(list(ba))\n"
   ]
  },
  {
   "cell_type": "code",
   "execution_count": 58,
   "id": "1eecad6a",
   "metadata": {},
   "outputs": [
    {
     "name": "stdout",
     "output_type": "stream",
     "text": [
      "120\n"
     ]
    }
   ],
   "source": [
    "from functools import reduce\n",
    "a = [1,2,3,4,5]\n",
    "b = reduce(lambda x,y:x*y,a)\n",
    "print((b))"
   ]
  },
  {
   "cell_type": "code",
   "execution_count": 61,
   "id": "c74b1681",
   "metadata": {},
   "outputs": [
    {
     "name": "stdout",
     "output_type": "stream",
     "text": [
      "15\n"
     ]
    }
   ],
   "source": [
    "\n",
    "a = [1,2,3,4,5]\n",
    "b = reduce(lambda x,y:x+y,a)\n",
    "print((b))"
   ]
  },
  {
   "cell_type": "code",
   "execution_count": null,
   "id": "41789ca7",
   "metadata": {},
   "outputs": [],
   "source": []
  }
 ],
 "metadata": {
  "kernelspec": {
   "display_name": "Python 3 (ipykernel)",
   "language": "python",
   "name": "python3"
  },
  "language_info": {
   "codemirror_mode": {
    "name": "ipython",
    "version": 3
   },
   "file_extension": ".py",
   "mimetype": "text/x-python",
   "name": "python",
   "nbconvert_exporter": "python",
   "pygments_lexer": "ipython3",
   "version": "3.9.12"
  }
 },
 "nbformat": 4,
 "nbformat_minor": 5
}
