{
 "cells": [
  {
   "cell_type": "code",
   "execution_count": null,
   "id": "b0b1241f",
   "metadata": {},
   "outputs": [],
   "source": [
    "pandas series"
   ]
  },
  {
   "cell_type": "code",
   "execution_count": 4,
   "id": "59037dbd",
   "metadata": {},
   "outputs": [
    {
     "name": "stdout",
     "output_type": "stream",
     "text": [
      "0      1\n",
      "1      2\n",
      "2      3\n",
      "3      4\n",
      "4      5\n",
      "5      6\n",
      "6      7\n",
      "7      8\n",
      "8      9\n",
      "9    100\n",
      "dtype: int64\n"
     ]
    }
   ],
   "source": [
    "import pandas as pd\n",
    "s1 = pd.Series([1,2,3,4,5,6,7,8,9,100])\n",
    "print(s1)               \n",
    "               "
   ]
  },
  {
   "cell_type": "code",
   "execution_count": 12,
   "id": "1a0e4a9b",
   "metadata": {},
   "outputs": [
    {
     "name": "stdout",
     "output_type": "stream",
     "text": [
      "0      1.0\n",
      "1      2.0\n",
      "2      3.0\n",
      "3      4.0\n",
      "4      5.0\n",
      "5      6.0\n",
      "6      7.0\n",
      "7      8.0\n",
      "8      9.0\n",
      "9    100.0\n",
      "dtype: float64\n"
     ]
    }
   ],
   "source": [
    "import pandas as pd\n",
    "s1 = pd.Series([1,2,3,4,5,6,7,8,9,100], dtype = float)\n",
    "print(s1)               \n",
    "               "
   ]
  },
  {
   "cell_type": "code",
   "execution_count": 14,
   "id": "c49d516d",
   "metadata": {},
   "outputs": [
    {
     "name": "stdout",
     "output_type": "stream",
     "text": [
      "kl rahul          1\n",
      "rohit sharma      2\n",
      "virat kholi     113\n",
      "surya             4\n",
      "hardik            5\n",
      "dinesh            6\n",
      "ash               7\n",
      "jp                8\n",
      "yc                9\n",
      "bk               10\n",
      "dtype: int64\n"
     ]
    }
   ],
   "source": [
    "import pandas as pd\n",
    "s1 = pd.Series([1,2,113,4,5,6,7,8,9,10],index = ([\"kl rahul\",\"rohit sharma\",\"virat kholi\",\"surya\",\"hardik\",\"dinesh\",\"ash\",\"jp\",\"yc\",\"bk\"]))\n",
    "print(s1)"
   ]
  },
  {
   "cell_type": "code",
   "execution_count": 9,
   "id": "d200b726",
   "metadata": {},
   "outputs": [
    {
     "name": "stdout",
     "output_type": "stream",
     "text": [
      "kl rahul          1\n",
      "rohit sharma      2\n",
      "virat kholi     113\n",
      "surya             4\n",
      "hardik            5\n",
      "dinesh            6\n",
      "ash               7\n",
      "jp                8\n",
      "yc                9\n",
      "bk               10\n",
      "dtype: int64\n"
     ]
    }
   ],
   "source": [
    "import pandas as pd\n",
    "i = pd.Index([\"kl rahul\",\"rohit sharma\",\"virat kholi\",\"surya\",\"hardik\",\"dinesh\",\"ash\",\"jp\",\"yc\",\"bk\"])\n",
    "s1 = pd.Series([1,2,113,4,5,6,7,8,9,10],index = i)\n",
    "print(s1)"
   ]
  },
  {
   "cell_type": "code",
   "execution_count": 13,
   "id": "606df84d",
   "metadata": {},
   "outputs": [
    {
     "name": "stdout",
     "output_type": "stream",
     "text": [
      "{'a': 1, 'b': 2, 'c': 3, 'd': 4}\n"
     ]
    }
   ],
   "source": [
    "import pandas as pd\n",
    "s2 = ({\"a\":1,\"b\":2,\"c\":3,\"d\":4})\n",
    "print(s2)"
   ]
  },
  {
   "cell_type": "code",
   "execution_count": null,
   "id": "de51b84a",
   "metadata": {},
   "outputs": [],
   "source": []
  }
 ],
 "metadata": {
  "kernelspec": {
   "display_name": "Python 3 (ipykernel)",
   "language": "python",
   "name": "python3"
  },
  "language_info": {
   "codemirror_mode": {
    "name": "ipython",
    "version": 3
   },
   "file_extension": ".py",
   "mimetype": "text/x-python",
   "name": "python",
   "nbconvert_exporter": "python",
   "pygments_lexer": "ipython3",
   "version": "3.9.12"
  }
 },
 "nbformat": 4,
 "nbformat_minor": 5
}
