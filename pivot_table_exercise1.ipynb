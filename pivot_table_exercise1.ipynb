{
 "cells": [
  {
   "cell_type": "code",
   "execution_count": null,
   "id": "cfa40bc4",
   "metadata": {},
   "outputs": [],
   "source": []
  },
  {
   "cell_type": "raw",
   "id": "e566c14b",
   "metadata": {},
   "source": [
    "1. Write a Pandas program to create a Pivot table with multiple indexes from a given excel sheet (Salesdata.xlsx)."
   ]
  },
  {
   "cell_type": "code",
   "execution_count": null,
   "id": "b9c92844",
   "metadata": {},
   "outputs": [],
   "source": [
    " "
   ]
  },
  {
   "cell_type": "raw",
   "id": "e520667d",
   "metadata": {},
   "source": [
    "2. Write a Pandas program to create a Pivot table and find the total sale amount region wise, manager wise. "
   ]
  },
  {
   "cell_type": "code",
   "execution_count": null,
   "id": "0f543512",
   "metadata": {},
   "outputs": [],
   "source": []
  },
  {
   "cell_type": "raw",
   "id": "3db9c014",
   "metadata": {},
   "source": [
    "3. Write a Pandas program to create a Pivot table and find the total sale amount region wise, manager wise, sales man wise. "
   ]
  },
  {
   "cell_type": "code",
   "execution_count": null,
   "id": "2357b6d7",
   "metadata": {},
   "outputs": [],
   "source": []
  },
  {
   "cell_type": "raw",
   "id": "93156e72",
   "metadata": {},
   "source": [
    "4. Write a Pandas program to create a Pivot table and find the item wise unit sold."
   ]
  },
  {
   "cell_type": "code",
   "execution_count": null,
   "id": "233828a8",
   "metadata": {},
   "outputs": [],
   "source": []
  },
  {
   "cell_type": "raw",
   "id": "bc38c59c",
   "metadata": {},
   "source": [
    "5. Write a Pandas program to create a Pivot table and find the region wise total sale. "
   ]
  },
  {
   "cell_type": "code",
   "execution_count": null,
   "id": "97e72325",
   "metadata": {},
   "outputs": [],
   "source": []
  },
  {
   "cell_type": "raw",
   "id": "24a9dd38",
   "metadata": {},
   "source": [
    "6. Write a Pandas program to create a Pivot table and find the region wise, item wise unit sold."
   ]
  },
  {
   "cell_type": "code",
   "execution_count": null,
   "id": "41d291df",
   "metadata": {},
   "outputs": [],
   "source": []
  },
  {
   "cell_type": "raw",
   "id": "61852e76",
   "metadata": {},
   "source": [
    "7. Write a Pandas program to create a Pivot table and count the manager wise sale and mean value of sale amount. "
   ]
  },
  {
   "cell_type": "code",
   "execution_count": null,
   "id": "6dc89a82",
   "metadata": {},
   "outputs": [],
   "source": []
  },
  {
   "cell_type": "raw",
   "id": "69a8eafd",
   "metadata": {},
   "source": [
    "8. Write a Pandas program to create a Pivot table and find manager wise, salesman wise total sale and also display the sum of all sale amount at the bottom. "
   ]
  },
  {
   "cell_type": "code",
   "execution_count": null,
   "id": "580622d0",
   "metadata": {},
   "outputs": [],
   "source": []
  },
  {
   "cell_type": "raw",
   "id": "2bab2d92",
   "metadata": {},
   "source": [
    "9. Write a Pandas program to create a Pivot table and find the total sale amount region wise, manager wise, sales man wise where Manager = \"Douglas\". "
   ]
  },
  {
   "cell_type": "code",
   "execution_count": null,
   "id": "b819f36d",
   "metadata": {},
   "outputs": [],
   "source": []
  },
  {
   "cell_type": "raw",
   "id": "d05c8cfa",
   "metadata": {},
   "source": [
    "10. Write a Pandas program to create a Pivot table and find the region wise Television and Home Theater sold. "
   ]
  },
  {
   "cell_type": "code",
   "execution_count": null,
   "id": "7002a0c3",
   "metadata": {},
   "outputs": [],
   "source": []
  },
  {
   "cell_type": "raw",
   "id": "99fb4a00",
   "metadata": {},
   "source": [
    "11. Write a Pandas program to create a Pivot table and find the maximum sale value of the items."
   ]
  },
  {
   "cell_type": "code",
   "execution_count": null,
   "id": "860ff5ba",
   "metadata": {},
   "outputs": [],
   "source": []
  },
  {
   "cell_type": "raw",
   "id": "2c52ec1f",
   "metadata": {},
   "source": [
    "12. Write a Pandas program to create a Pivot table and find the minimum sale value of the items. "
   ]
  },
  {
   "cell_type": "code",
   "execution_count": null,
   "id": "7270b404",
   "metadata": {},
   "outputs": [],
   "source": []
  }
 ],
 "metadata": {
  "kernelspec": {
   "display_name": "Python 3 (ipykernel)",
   "language": "python",
   "name": "python3"
  },
  "language_info": {
   "codemirror_mode": {
    "name": "ipython",
    "version": 3
   },
   "file_extension": ".py",
   "mimetype": "text/x-python",
   "name": "python",
   "nbconvert_exporter": "python",
   "pygments_lexer": "ipython3",
   "version": "3.9.12"
  }
 },
 "nbformat": 4,
 "nbformat_minor": 5
}
